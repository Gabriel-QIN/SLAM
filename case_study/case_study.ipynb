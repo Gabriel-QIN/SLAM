{
 "cells": [
  {
   "cell_type": "code",
   "execution_count": 87,
   "id": "cbe5d8e8",
   "metadata": {},
   "outputs": [],
   "source": [
    "import torch_geometric\n",
    "import pandas as pd\n",
    "import numpy as np\n",
    "import matplotlib\n",
    "import matplotlib.pyplot as plt\n",
    "import seaborn as sns\n",
    "from SLAM import *"
   ]
  },
  {
   "cell_type": "code",
   "execution_count": 33,
   "id": "50f23e96",
   "metadata": {},
   "outputs": [],
   "source": [
    "def parse_pdb_chain(pdb_file, chain='A',pos=None, atom_type='CA', nneighbor=32, cal_cb=True):\n",
    "    \"\"\"\n",
    "    ########## Process PDB file ##########\n",
    "    \"\"\"\n",
    "    current_pos = -1000\n",
    "    X = []\n",
    "    current_aa = {} # N, CA, C, O, R\n",
    "    first_aa_type = None\n",
    "    first_aa_position = None\n",
    "    with open(pdb_file, 'r') as pdb_f:\n",
    "        for line in pdb_f:\n",
    "            if line[21] == chain:\n",
    "                if first_aa_type is None and line[0:4].strip() == \"ATOM\":\n",
    "                    first_aa_type = line[17:20].strip()\n",
    "                    first_aa_position = int(line[22:26].strip())\n",
    "                if (line[0:4].strip() == \"ATOM\" and int(line[22:26].strip()) != current_pos) or line[0:4].strip() == \"TER\":\n",
    "                    if current_aa != {}:\n",
    "                        R_group = []\n",
    "                        for atom in current_aa:\n",
    "                            if atom not in [\"N\", \"CA\", \"C\", \"O\"]:\n",
    "                                R_group.append(current_aa[atom])\n",
    "                        if R_group == []:\n",
    "                            R_group = [current_aa[\"CA\"]]\n",
    "                        R_group = np.array(R_group).mean(0)\n",
    "                        X.append([current_aa[\"N\"], current_aa[\"CA\"], current_aa[\"C\"], current_aa[\"O\"], R_group])\n",
    "                        current_aa = {}\n",
    "                    if line[0:4].strip() != \"TER\":\n",
    "                        current_pos = int(line[22:26].strip())\n",
    "\n",
    "                if line[0:4].strip() == \"ATOM\":\n",
    "                    atom = line[13:16].strip()\n",
    "                    if atom != \"H\":\n",
    "                        xyz = np.array([line[30:38].strip(), line[38:46].strip(), line[46:54].strip()]).astype(np.float32)\n",
    "                        current_aa[atom] = xyz\n",
    "    X = np.array(X)\n",
    "    if cal_cb:\n",
    "        X = np.concatenate([X, get_cb(X[:,0], X[:,1], X[:,2])[:, None]], 1)\n",
    "    if pos is not None:\n",
    "        atom_ind = atom_idx[atom_type] # CA atom\n",
    "        if pos >= X.shape[0]:\n",
    "            pos = X.shape[0] - 1\n",
    "        query_coord = X[pos,atom_ind]\n",
    "        distances = calculate_distances(X[:,atom_ind,:], query_coord)\n",
    "        closest_indices = sorted(np.argsort(distances)[:nneighbor])\n",
    "        X = X[(closest_indices)]\n",
    "    return X, closest_indices, first_aa_type, first_aa_position  # array shape: [Length, 6, 3] N, CA, C, O, R, CB\n",
    "\n",
    "def get_graph_fea_chain(pdb_path, pos, chain='A', nneighbor=32, radius=10, atom_type='CA', cal_cb=True):\n",
    "    X, closest_indices,first_aa_type, first_aa_position = parse_pdb_chain(pdb_path, chain=chain,pos=pos, atom_type=atom_type, nneighbor=nneighbor, cal_cb=cal_cb)\n",
    "    X = torch.tensor(X).float()\n",
    "    query_atom = X[:, atom_idx[atom_type]]\n",
    "    edge_index = radius_graph(query_atom, r=radius, loop=False, max_num_neighbors=nneighbor, num_workers = 4)\n",
    "    node, edge = get_geo_feat(X, edge_index)\n",
    "    return Data(x=node, edge_index=edge_index, edge_attr=edge, name=os.path.basename(pdb_path).split('.')[0], near=closest_indices)\n",
    "\n",
    "def _get_encoding(seq, feature=[BLOSUM62, BINA]):\n",
    "    alphabet = 'ARNDCQEGHILKMFPSTWYVX'\n",
    "    char_to_int = dict((c, i) for i, c in enumerate(alphabet))\n",
    "    int_to_char = dict((i, c) for i, c in enumerate(alphabet))\n",
    "    sample = ''.join([re.sub(r\"[UZOB*]\", \"X\", token) for token in seq])\n",
    "    # seq = [char_to_int[char] for char in sample]\n",
    "    max_len = len(sample)\n",
    "    all_fea = []\n",
    "    for encoder in feature:\n",
    "        fea = encoder([sample])\n",
    "        assert fea.shape[0] == max_len\n",
    "        all_fea.append(fea)\n",
    "    return np.hstack(all_fea)\n",
    "    \n",
    "def get_all_inputs(seq, pos, tokenizer, pdb_path):\n",
    "    data = get_graph_fea_chain(pdb_path, pos, nneighbor=32, atom_type='CA', cal_cb=True)\n",
    "    fea = _get_encoding(seq)\n",
    "    s = ''.join([token for token in re.sub(r\"[UZOB*]\", \"X\", seq.rstrip('*'))])\n",
    "    max_len = len(s)\n",
    "    encoded = tokenizer.encode_plus(seq, add_special_tokens=True, padding='max_length', return_token_type_ids=False, pad_to_max_length=True,truncation=True, max_length=max_len, return_tensors='pt')\n",
    "    input_ids = encoded['input_ids']\n",
    "    attention_mask = encoded['attention_mask']\n",
    "    return data, input_ids, attention_mask, torch.tensor(fea, dtype=torch.float)\n",
    "\n",
    "def get_peptide(pos, window_size, seq, mirror=True):\n",
    "    \"\"\"Return peptide based on window_size. Missing residues are padded with X symbol (if mirror == False) or mirroring residues from the other side (if mirror == True).\"\"\"\n",
    "    pos = pos-1\n",
    "    half_window = int(window_size/2)\n",
    "    start = pos - half_window\n",
    "    left_padding = '' if start >= 0 else 'X' * abs(start)\n",
    "    start = 0 if start < 0 else start\n",
    "    end = pos + half_window + 1\n",
    "    right_padding = 'X' * half_window\n",
    "    end = len(seq) if end + 1 > len(seq) else end\n",
    "    peptide_ = seq[start:end]\n",
    "    if mirror:\n",
    "        if left_padding == '' and right_padding == '':\n",
    "            peptide = left_padding + peptide_ + right_padding\n",
    "        elif left_padding == '' and right_padding != '': # mirror left\n",
    "            peptide = left_padding + peptide_ + peptide_[:len(right_padding)][::-1]\n",
    "        elif left_padding != '' and right_padding == '': # mirror right\n",
    "            peptide = peptide_[::-1][:len(left_padding)] + peptide_ + right_padding\n",
    "        else:\n",
    "            peptide = None\n",
    "    else:\n",
    "        peptide = left_padding + peptide_ + right_padding\n",
    "    if peptide is not None:\n",
    "        peptide = peptide[:window_size]\n",
    "        assert peptide[half_window] == 'K' and len(peptide) == window_size\n",
    "        return peptide\n",
    "    else:\n",
    "        return None\n",
    "\n",
    "def get_all_k(seqlist, window_size=51):\n",
    "    peplist = []\n",
    "    window_size = window_size\n",
    "    half_window = window_size // 2\n",
    "    for record in seqlist:\n",
    "        seq = str(record.seq)\n",
    "        for m in re.finditer('K', seq):\n",
    "            pos = m.start() + 1\n",
    "            pep = get_peptide(pos, window_size, seq, mirror=False)\n",
    "            if pep is not None:\n",
    "                peplist.append([f'{pdb_id}|Pred|{pos}|{len(seq)}', pep])\n",
    "    return peplist"
   ]
  },
  {
   "cell_type": "code",
   "execution_count": 3,
   "id": "f05ba6f4",
   "metadata": {},
   "outputs": [
    {
     "name": "stderr",
     "output_type": "stream",
     "text": [
      "Some weights of the model checkpoint at /mnt/data/zhqin/pretrain_LM/prot_bert/ were not used when initializing BertModel: ['cls.predictions.decoder.bias', 'cls.seq_relationship.bias', 'cls.predictions.transform.dense.weight', 'cls.predictions.transform.LayerNorm.weight', 'cls.predictions.bias', 'cls.seq_relationship.weight', 'cls.predictions.decoder.weight', 'cls.predictions.transform.dense.bias', 'cls.predictions.transform.LayerNorm.bias']\n",
      "- This IS expected if you are initializing BertModel from the checkpoint of a model trained on another task or with another architecture (e.g. initializing a BertForSequenceClassification model from a BertForPreTraining model).\n",
      "- This IS NOT expected if you are initializing BertModel from the checkpoint of a model that you expect to be exactly identical (initializing a BertForSequenceClassification model from a BertForSequenceClassification model).\n"
     ]
    },
    {
     "data": {
      "text/plain": [
       "<All keys matched successfully>"
      ]
     },
     "execution_count": 3,
     "metadata": {},
     "output_type": "execute_result"
    }
   ],
   "source": [
    "gpu = 0\n",
    "device = torch.device(f'cuda:{gpu}' if torch.cuda.is_available() else 'cpu')\n",
    "n_layers = 1\n",
    "dropout = 0.5\n",
    "embedding_dim = 32\n",
    "hidden_dim = 64\n",
    "out_dim = 32\n",
    "node_dim = 267\n",
    "edge_dim = 632\n",
    "nneighbor = 32\n",
    "atom_type = 'CA' # CB, R, C, N, O\n",
    "gnn_layers = 5\n",
    "encoder_list = ['cnn','lstm','fea', 'gnn', 'plm']\n",
    "fea_dim = 41\n",
    "PLM_dim = 1024\n",
    "window_size = 51\n",
    "pretrained_model = '/mnt/data/zhqin/pretrain_LM/prot_bert/'\n",
    "tokenizer = AutoTokenizer.from_pretrained(pretrained_model, do_lower_case=False, use_fast=False)\n",
    "BERT_encoder = AutoModel.from_pretrained(pretrained_model, local_files_only=True, output_attentions=False).to(device)\n",
    "model_file = f'Models/SLAM_combine/general_struct_plm/best_general_struct_plm_model_epoch.pt'  \n",
    "model = SLAMNet(BERT_encoder=BERT_encoder, vocab_size=tokenizer.vocab_size, encoder_list=encoder_list,PLM_dim=PLM_dim,win_size=window_size,embedding_dim=embedding_dim, fea_dim=fea_dim, hidden_dim=hidden_dim, out_dim=out_dim,node_dim=node_dim, edge_dim=edge_dim, gnn_layers=gnn_layers,n_layers=n_layers,dropout=dropout).to(device)\n",
    "model.load_state_dict(torch.load(model_file))"
   ]
  },
  {
   "cell_type": "code",
   "execution_count": 44,
   "id": "4b6474e2",
   "metadata": {},
   "outputs": [
    {
     "data": {
      "text/plain": [
       "[['5w49|Pred|1|429', 'XXXXXXXXXXXXXXXXXXXXXXXXXKLPYKVADIGLAAWGRKALDIAENEM'],\n",
       " ['5w49|Pred|5|429', 'XXXXXXXXXXXXXXXXXXXXXKLPYKVADIGLAAWGRKALDIAENEMPGLM'],\n",
       " ['5w49|Pred|17|429', 'XXXXXXXXXKLPYKVADIGLAAWGRKALDIAENEMPGLMRMRERYSASKPL'],\n",
       " ['5w49|Pred|40|429', 'GRKALDIAENEMPGLMRMRERYSASKPLKGARIAGCLHMTVETAVLIETLV'],\n",
       " ['5w49|Pred|43|429', 'ALDIAENEMPGLMRMRERYSASKPLKGARIAGCLHMTVETAVLIETLVTLG']]"
      ]
     },
     "execution_count": 44,
     "metadata": {},
     "output_type": "execute_result"
    }
   ],
   "source": [
    "pdb_id = '5w49'\n",
    "chain = 'A'\n",
    "pdb_path = f'proteomes/{pdb_id}.pdb'\n",
    "seq_path = f'proteomes/{pdb_id}.fa'\n",
    "first_aa_position = int(parse_pdb_chain(pdb_path, chain=chain,pos=pos, atom_type=atom_type, nneighbor=nneighbor, cal_cb=True)[3])\n",
    "discrepancy = first_aa_position -1\n",
    "seqlist = [record for record in SeqIO.parse(seq_path, \"fasta\")]\n",
    "peplist = get_all_k(seqlist, window_size=window_size)\n",
    "peplist[:5]"
   ]
  },
  {
   "cell_type": "code",
   "execution_count": 57,
   "id": "794b3b96",
   "metadata": {
    "scrolled": true
   },
   "outputs": [],
   "source": [
    "predictions = []\n",
    "model.eval()\n",
    "for desc, seq in peplist:\n",
    "    seq = str(seq)\n",
    "    tmp = desc.split('|')\n",
    "    pos = int(tmp[2])\n",
    "    g, input_ids, attention_mask, feature = get_all_inputs(seq,pos,tokenizer,pdb_path)\n",
    "    feature = feature.unsqueeze(0).to(device)\n",
    "    g = g.to(device)\n",
    "    g.batch = torch.zeros(g.x.shape[0],dtype=torch.int64).to(device)\n",
    "    input_ids = input_ids.to(device)\n",
    "    attention_mask = attention_mask.to(device)\n",
    "    pred = model(input_ids=input_ids, attention_mask=attention_mask, feature=feature, g_data=g)\n",
    "    result = [seq, pos+discrepancy, pred.squeeze().detach().item()]\n",
    "    predictions.append(result)"
   ]
  },
  {
   "cell_type": "code",
   "execution_count": 63,
   "id": "dc536f4b",
   "metadata": {},
   "outputs": [
    {
     "data": {
      "text/html": [
       "<div>\n",
       "<style scoped>\n",
       "    .dataframe tbody tr th:only-of-type {\n",
       "        vertical-align: middle;\n",
       "    }\n",
       "\n",
       "    .dataframe tbody tr th {\n",
       "        vertical-align: top;\n",
       "    }\n",
       "\n",
       "    .dataframe thead th {\n",
       "        text-align: right;\n",
       "    }\n",
       "</style>\n",
       "<table border=\"1\" class=\"dataframe\">\n",
       "  <thead>\n",
       "    <tr style=\"text-align: right;\">\n",
       "      <th></th>\n",
       "      <th>Sequence</th>\n",
       "      <th>Position</th>\n",
       "      <th>Scores</th>\n",
       "    </tr>\n",
       "  </thead>\n",
       "  <tbody>\n",
       "    <tr>\n",
       "      <th>0</th>\n",
       "      <td>XXXXXXXXXXXXXXXXXXXXXXXXXKLPYKVADIGLAAWGRKALDI...</td>\n",
       "      <td>4</td>\n",
       "      <td>0.002205</td>\n",
       "    </tr>\n",
       "    <tr>\n",
       "      <th>1</th>\n",
       "      <td>XXXXXXXXXXXXXXXXXXXXXKLPYKVADIGLAAWGRKALDIAENE...</td>\n",
       "      <td>8</td>\n",
       "      <td>0.478325</td>\n",
       "    </tr>\n",
       "    <tr>\n",
       "      <th>2</th>\n",
       "      <td>XXXXXXXXXKLPYKVADIGLAAWGRKALDIAENEMPGLMRMRERYS...</td>\n",
       "      <td>20</td>\n",
       "      <td>0.472869</td>\n",
       "    </tr>\n",
       "  </tbody>\n",
       "</table>\n",
       "</div>"
      ],
      "text/plain": [
       "                                            Sequence  Position    Scores\n",
       "0  XXXXXXXXXXXXXXXXXXXXXXXXXKLPYKVADIGLAAWGRKALDI...         4  0.002205\n",
       "1  XXXXXXXXXXXXXXXXXXXXXKLPYKVADIGLAAWGRKALDIAENE...         8  0.478325\n",
       "2  XXXXXXXXXKLPYKVADIGLAAWGRKALDIAENEMPGLMRMRERYS...        20  0.472869"
      ]
     },
     "execution_count": 63,
     "metadata": {},
     "output_type": "execute_result"
    }
   ],
   "source": [
    "threshold = 0.4\n",
    "case = pd.DataFrame(predictions)\n",
    "case.columns = ['Sequence', 'Position', 'Scores']\n",
    "case.head(3)"
   ]
  },
  {
   "cell_type": "code",
   "execution_count": 68,
   "id": "028bae7a",
   "metadata": {},
   "outputs": [],
   "source": [
    "explist = [20,43,188,204,389,405]"
   ]
  },
  {
   "cell_type": "code",
   "execution_count": 94,
   "id": "ce1a2057",
   "metadata": {},
   "outputs": [
    {
     "data": {
      "image/png": "[encoded data removed]",
      "text/plain": [
       "<Figure size 1000x600 with 1 Axes>"
      ]
     },
     "metadata": {},
     "output_type": "display_data"
    }
   ],
   "source": [
    "plt.figure(figsize=(10, 6))\n",
    "plt.scatter(case[~case['Position'].isin(explist)]['Position'], case[~case['Position'].isin(explist)]['Scores'], s=75,color='navy', label='Predicted Kbhb sites')\n",
    "shapes = ['o', 's', 'D', '^', 'v', '<']\n",
    "colors = ['red', 'green', 'orange', 'purple', 'brown', 'pink']\n",
    "\n",
    "for i, pos in enumerate(explist):\n",
    "    subset = case[case['Position'] == pos]\n",
    "    plt.scatter(subset['Position'], subset['Scores'], color=colors[i], marker=shapes[i], s=100, label=f'K{pos}(Exp)')\n",
    "\n",
    "plt.xlabel('Position',fontsize=14,labelpad=10)\n",
    "plt.ylabel('Scores',fontsize=14,labelpad=10)\n",
    "plt.axhline(y=0.4, color='#DF8B81', linestyle='--')\n",
    "plt.legend()\n",
    "plt.grid(True)"
   ]
  },
  {
   "cell_type": "code",
   "execution_count": 95,
   "id": "a1cd9915",
   "metadata": {},
   "outputs": [
    {
     "data": {
      "text/html": [
       "<div>\n",
       "<style scoped>\n",
       "    .dataframe tbody tr th:only-of-type {\n",
       "        vertical-align: middle;\n",
       "    }\n",
       "\n",
       "    .dataframe tbody tr th {\n",
       "        vertical-align: top;\n",
       "    }\n",
       "\n",
       "    .dataframe thead th {\n",
       "        text-align: right;\n",
       "    }\n",
       "</style>\n",
       "<table border=\"1\" class=\"dataframe\">\n",
       "  <thead>\n",
       "    <tr style=\"text-align: right;\">\n",
       "      <th></th>\n",
       "      <th>Sequence</th>\n",
       "      <th>Position</th>\n",
       "      <th>Scores</th>\n",
       "    </tr>\n",
       "  </thead>\n",
       "  <tbody>\n",
       "    <tr>\n",
       "      <th>1</th>\n",
       "      <td>XXXXXXXXXXXXXXXXXXXXXKLPYKVADIGLAAWGRKALDIAENE...</td>\n",
       "      <td>8</td>\n",
       "      <td>0.478325</td>\n",
       "    </tr>\n",
       "    <tr>\n",
       "      <th>2</th>\n",
       "      <td>XXXXXXXXXKLPYKVADIGLAAWGRKALDIAENEMPGLMRMRERYS...</td>\n",
       "      <td>20</td>\n",
       "      <td>0.472869</td>\n",
       "    </tr>\n",
       "    <tr>\n",
       "      <th>3</th>\n",
       "      <td>GRKALDIAENEMPGLMRMRERYSASKPLKGARIAGCLHMTVETAVL...</td>\n",
       "      <td>43</td>\n",
       "      <td>0.401289</td>\n",
       "    </tr>\n",
       "    <tr>\n",
       "      <th>11</th>\n",
       "      <td>VHNLYKMMANGILKVPAINVNDSVTKSKFDNLYGCRESLIDGIKRA...</td>\n",
       "      <td>186</td>\n",
       "      <td>0.422274</td>\n",
       "    </tr>\n",
       "    <tr>\n",
       "      <th>12</th>\n",
       "      <td>NLYKMMANGILKVPAINVNDSVTKSKFDNLYGCRESLIDGIKRATD...</td>\n",
       "      <td>188</td>\n",
       "      <td>0.842055</td>\n",
       "    </tr>\n",
       "    <tr>\n",
       "      <th>13</th>\n",
       "      <td>NVNDSVTKSKFDNLYGCRESLIDGIKRATDVMIAGKVAVVAGYGDV...</td>\n",
       "      <td>204</td>\n",
       "      <td>0.460173</td>\n",
       "    </tr>\n",
       "    <tr>\n",
       "      <th>14</th>\n",
       "      <td>FDNLYGCRESLIDGIKRATDVMIAGKVAVVAGYGDVGKGCAQALRG...</td>\n",
       "      <td>214</td>\n",
       "      <td>0.402376</td>\n",
       "    </tr>\n",
       "    <tr>\n",
       "      <th>15</th>\n",
       "      <td>DGIKRATDVMIAGKVAVVAGYGDVGKGCAQALRGFGARVIITEIDP...</td>\n",
       "      <td>226</td>\n",
       "      <td>0.565033</td>\n",
       "    </tr>\n",
       "    <tr>\n",
       "      <th>23</th>\n",
       "      <td>NQVMAQIELWTHPDKYPVGVHFLPKKLDEAVAEAHLGKLNVKLTKL...</td>\n",
       "      <td>389</td>\n",
       "      <td>0.704376</td>\n",
       "    </tr>\n",
       "    <tr>\n",
       "      <th>24</th>\n",
       "      <td>PDKYPVGVHFLPKKLDEAVAEAHLGKLNVKLTKLTEKQAQYLGMSC...</td>\n",
       "      <td>401</td>\n",
       "      <td>0.737884</td>\n",
       "    </tr>\n",
       "    <tr>\n",
       "      <th>25</th>\n",
       "      <td>PVGVHFLPKKLDEAVAEAHLGKLNVKLTKLTEKQAQYLGMSCDGPF...</td>\n",
       "      <td>405</td>\n",
       "      <td>0.697455</td>\n",
       "    </tr>\n",
       "    <tr>\n",
       "      <th>26</th>\n",
       "      <td>VHFLPKKLDEAVAEAHLGKLNVKLTKLTEKQAQYLGMSCDGPFKPD...</td>\n",
       "      <td>408</td>\n",
       "      <td>0.575099</td>\n",
       "    </tr>\n",
       "  </tbody>\n",
       "</table>\n",
       "</div>"
      ],
      "text/plain": [
       "                                             Sequence  Position    Scores\n",
       "1   XXXXXXXXXXXXXXXXXXXXXKLPYKVADIGLAAWGRKALDIAENE...         8  0.478325\n",
       "2   XXXXXXXXXKLPYKVADIGLAAWGRKALDIAENEMPGLMRMRERYS...        20  0.472869\n",
       "3   GRKALDIAENEMPGLMRMRERYSASKPLKGARIAGCLHMTVETAVL...        43  0.401289\n",
       "11  VHNLYKMMANGILKVPAINVNDSVTKSKFDNLYGCRESLIDGIKRA...       186  0.422274\n",
       "12  NLYKMMANGILKVPAINVNDSVTKSKFDNLYGCRESLIDGIKRATD...       188  0.842055\n",
       "13  NVNDSVTKSKFDNLYGCRESLIDGIKRATDVMIAGKVAVVAGYGDV...       204  0.460173\n",
       "14  FDNLYGCRESLIDGIKRATDVMIAGKVAVVAGYGDVGKGCAQALRG...       214  0.402376\n",
       "15  DGIKRATDVMIAGKVAVVAGYGDVGKGCAQALRGFGARVIITEIDP...       226  0.565033\n",
       "23  NQVMAQIELWTHPDKYPVGVHFLPKKLDEAVAEAHLGKLNVKLTKL...       389  0.704376\n",
       "24  PDKYPVGVHFLPKKLDEAVAEAHLGKLNVKLTKLTEKQAQYLGMSC...       401  0.737884\n",
       "25  PVGVHFLPKKLDEAVAEAHLGKLNVKLTKLTEKQAQYLGMSCDGPF...       405  0.697455\n",
       "26  VHFLPKKLDEAVAEAHLGKLNVKLTKLTEKQAQYLGMSCDGPFKPD...       408  0.575099"
      ]
     },
     "execution_count": 95,
     "metadata": {},
     "output_type": "execute_result"
    }
   ],
   "source": [
    "kbhb = case[case['Scores']>threshold]\n",
    "kbhb"
   ]
  },
  {
   "cell_type": "code",
   "execution_count": 114,
   "id": "41c3d9b8",
   "metadata": {},
   "outputs": [
    {
     "data": {
      "text/plain": [
       "<matplotlib.legend.Legend at 0x7ff1742c3dd0>"
      ]
     },
     "execution_count": 114,
     "metadata": {},
     "output_type": "execute_result"
    },
    {
     "data": {
      "image/png": "[encoded data removed]",
      "text/plain": [
       "<Figure size 1000x600 with 1 Axes>"
      ]
     },
     "metadata": {},
     "output_type": "display_data"
    }
   ],
   "source": [
    "plt.figure(figsize=(10, 6))\n",
    "palette = []\n",
    "for pos in kbhb['Position']:\n",
    "    if pos in explist:\n",
    "        palette.append('#E0AED0')\n",
    "    else:\n",
    "        palette.append('#8EA7E9')\n",
    "sns.barplot(x='Position', y='Scores', data=kbhb, palette=palette,edgecolor='black', linewidth=1.5)\n",
    "plt.axhline(y=0.4, color='#DF8B81', linestyle='--')\n",
    "plt.xlabel('Position',fontsize=14,labelpad=10)\n",
    "plt.ylabel('Scores',fontsize=14,labelpad=10)\n",
    "handles = [plt.Line2D([0], [0], color='#8EA7E9', lw=4, label='Predicted'),\n",
    "           plt.Line2D([0], [0], color='#E0AED0', lw=4, label='Experiment')]\n",
    "plt.legend(handles=handles)"
   ]
  },
  {
   "cell_type": "code",
   "execution_count": null,
   "id": "7722da63",
   "metadata": {},
   "outputs": [],
   "source": []
  },
  {
   "cell_type": "code",
   "execution_count": null,
   "id": "cbbae89b",
   "metadata": {},
   "outputs": [],
   "source": []
  }
 ],
 "metadata": {
  "kernelspec": {
   "display_name": "Python [conda env:pyg]",
   "language": "python",
   "name": "conda-env-pyg-py"
  },
  "language_info": {
   "codemirror_mode": {
    "name": "ipython",
    "version": 3
   },
   "file_extension": ".py",
   "mimetype": "text/x-python",
   "name": "python",
   "nbconvert_exporter": "python",
   "pygments_lexer": "ipython3",
   "version": "3.7.16"
  }
 },
 "nbformat": 4,
 "nbformat_minor": 5
}
